{
 "cells": [
  {
   "cell_type": "code",
   "execution_count": 1,
   "metadata": {},
   "outputs": [],
   "source": [
    "from preprocessing import missing_data_processing, data_preprocessing\n",
    "from sales_predictor import extract_from_dataset\n",
    "import pandas as pd\n",
    "\n",
    "dataset=pd.read_excel('SP_Train.xlsx')\n",
    "dataset=missing_data_processing(dataset)\n",
    "X,y=extract_from_dataset(dataset, 'Item_Outlet_Sales', ['Item_Identifier'])\n",
    "\n",
    "X,y=data_preprocessing(X,y, remove_outlier=False)"
   ]
  },
  {
   "cell_type": "code",
   "execution_count": 2,
   "metadata": {},
   "outputs": [],
   "source": [
    "import matplotlib.pyplot as plt\n",
    "\n",
    "%matplotlib qt\n",
    "\n",
    "for i,c in enumerate(X.columns):\n",
    "    plt.subplot(5,2,i+1)\n",
    "    plt.scatter(X[c],y)\n",
    "    plt.title(c)\n",
    "\n",
    "plt.show()"
   ]
  },
  {
   "cell_type": "markdown",
   "metadata": {},
   "source": [
    "In the next section, use different values of perc to set the percentile"
   ]
  },
  {
   "cell_type": "code",
   "execution_count": 4,
   "metadata": {},
   "outputs": [],
   "source": [
    "X_o,y_o=data_preprocessing(X,y,perc=2)\n",
    "for i,c in enumerate(X.columns):\n",
    "    plt.subplot(5,2,i+1)\n",
    "    plt.scatter(X_o[c],y_o)\n",
    "    plt.title(c)\n",
    "\n",
    "plt.show()"
   ]
  }
 ],
 "metadata": {
  "kernelspec": {
   "display_name": "Python 3",
   "language": "python",
   "name": "python3"
  },
  "language_info": {
   "codemirror_mode": {
    "name": "ipython",
    "version": 3
   },
   "file_extension": ".py",
   "mimetype": "text/x-python",
   "name": "python",
   "nbconvert_exporter": "python",
   "pygments_lexer": "ipython3",
   "version": "3.8.3"
  }
 },
 "nbformat": 4,
 "nbformat_minor": 2
}
