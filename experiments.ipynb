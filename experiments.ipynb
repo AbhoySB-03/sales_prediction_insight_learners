{
 "cells": [
  {
   "cell_type": "code",
   "execution_count": null,
   "metadata": {},
   "outputs": [],
   "source": [
    "from config import *\n",
    "import pandas as pd\n",
    "from sales_predictor import extract_from_dataset\n",
    "from preprocessing import data_preprocessing, missing_data_processing\n",
    "\n",
    "train=missing_data_processing(pd.read_csv('Train_Data.csv'))\n",
    "test=missing_data_processing(pd.read_csv('Test_Data.csv'))\n",
    "\n",
    "X_train,y_train=extract_from_dataset(train, 'Item_Outlet_Sales', ['Item_Identifier'])\n",
    "\n",
    "X_test,y_test=extract_from_dataset(test,'Item_Outlet_Sales', ['Item_Identifier'])"
   ]
  },
  {
   "cell_type": "code",
   "execution_count": 21,
   "metadata": {},
   "outputs": [],
   "source": [
    "X_t,y_t=data_preprocessing(X_train,y_train, remove_outlier=False)\n",
    "X_train,y_train=data_preprocessing(X_train, y_train)\n",
    "X_test,y_test=data_preprocessing(X_test, y_test, remove_outlier=False)"
   ]
  },
  {
   "cell_type": "code",
   "execution_count": 22,
   "metadata": {},
   "outputs": [],
   "source": [
    "from sklearn.linear_model import LinearRegression, PoissonRegressor\n",
    "from sklearn.ensemble import RandomForestRegressor, AdaBoostRegressor\n",
    "from sklearn.tree import DecisionTreeRegressor\n",
    "from sklearn.neighbors import KNeighborsRegressor\n",
    "from sklearn.neural_network import MLPRegressor\n",
    "\n",
    "models=[ RandomForestRegressor(max_depth=110, min_samples_leaf=41, min_samples_split=10, n_estimators=161),\n",
    "         AdaBoostRegressor(n_estimators=6), \n",
    "         DecisionTreeRegressor(ccp_alpha=8.08081, max_depth=267, min_samples_leaf=91), \n",
    "         KNeighborsRegressor(metric='manhattan', n_neighbors=12)]\n"
   ]
  },
  {
   "cell_type": "code",
   "execution_count": 28,
   "metadata": {},
   "outputs": [
    {
     "data": {
      "text/html": [
       "<div>\n",
       "<style scoped>\n",
       "    .dataframe tbody tr th:only-of-type {\n",
       "        vertical-align: middle;\n",
       "    }\n",
       "\n",
       "    .dataframe tbody tr th {\n",
       "        vertical-align: top;\n",
       "    }\n",
       "\n",
       "    .dataframe thead th {\n",
       "        text-align: right;\n",
       "    }\n",
       "</style>\n",
       "<table border=\"1\" class=\"dataframe\">\n",
       "  <thead>\n",
       "    <tr style=\"text-align: right;\">\n",
       "      <th></th>\n",
       "      <th>RMSE</th>\n",
       "      <th>Normalized RMSE</th>\n",
       "    </tr>\n",
       "  </thead>\n",
       "  <tbody>\n",
       "    <tr>\n",
       "      <th>RandomForestRegressor</th>\n",
       "      <td>1106.023710</td>\n",
       "      <td>0.091536</td>\n",
       "    </tr>\n",
       "    <tr>\n",
       "      <th>AdaBoostRegressor</th>\n",
       "      <td>1199.207483</td>\n",
       "      <td>0.099248</td>\n",
       "    </tr>\n",
       "    <tr>\n",
       "      <th>DecisionTreeRegressor</th>\n",
       "      <td>1130.133602</td>\n",
       "      <td>0.093531</td>\n",
       "    </tr>\n",
       "    <tr>\n",
       "      <th>KNeighborsRegressor</th>\n",
       "      <td>1155.210231</td>\n",
       "      <td>0.095607</td>\n",
       "    </tr>\n",
       "  </tbody>\n",
       "</table>\n",
       "</div>"
      ],
      "text/plain": [
       "                              RMSE  Normalized RMSE\n",
       "RandomForestRegressor  1106.023710         0.091536\n",
       "AdaBoostRegressor      1199.207483         0.099248\n",
       "DecisionTreeRegressor  1130.133602         0.093531\n",
       "KNeighborsRegressor    1155.210231         0.095607"
      ]
     },
     "execution_count": 28,
     "metadata": {},
     "output_type": "execute_result"
    }
   ],
   "source": [
    "import numpy as np\n",
    "\n",
    "result={}\n",
    "for m in models:\n",
    "    m.fit(X_train,y_train)\n",
    "    y_out=m.predict(X_test)\n",
    "\n",
    "    rmse=np.sqrt(np.mean((y_out-y_test)**2))\n",
    "    norm_rmse=rmse/(max(y_test)-min(y_test))\n",
    "\n",
    "    result.update({m.__class__.__name__:{'RMSE':rmse,'Normalized RMSE':norm_rmse}})\n",
    "\n",
    "res=pd.DataFrame(result).T\n",
    "res.to_csv('Best_Model.csv')\n",
    "res"
   ]
  },
  {
   "cell_type": "code",
   "execution_count": 29,
   "metadata": {},
   "outputs": [
    {
     "name": "stdout",
     "output_type": "stream",
     "text": [
      "TRAIN RMSE:899.4845954688815 Norm: 0.09448095470494762\n",
      "TEST RMSE:1108.1646537718316 Norm: 0.09171317580927431\n"
     ]
    }
   ],
   "source": [
    "from config import *\n",
    "\n",
    "model.fit(X_train,y_train)\n",
    "\n",
    "y_train_out=model.predict(X_t)\n",
    "y_test_out=model.predict(X_test)\n",
    "\n",
    "rmse_train=np.sqrt(np.mean((y_train_out-y_t)**2))\n",
    "rmse_test=np.sqrt(np.mean((y_test_out-y_test)**2))\n",
    "print(f\"TRAIN RMSE:{rmse_train} Norm: {rmse_train/(max(y_t)-min(y_t))}\")\n",
    "print(f\"TEST RMSE:{rmse_test} Norm: {rmse_test/(max(y_test)-min(y_test))}\")"
   ]
  }
 ],
 "metadata": {
  "kernelspec": {
   "display_name": "Python 3",
   "language": "python",
   "name": "python3"
  },
  "language_info": {
   "codemirror_mode": {
    "name": "ipython",
    "version": 3
   },
   "file_extension": ".py",
   "mimetype": "text/x-python",
   "name": "python",
   "nbconvert_exporter": "python",
   "pygments_lexer": "ipython3",
   "version": "3.8.3"
  }
 },
 "nbformat": 4,
 "nbformat_minor": 2
}
