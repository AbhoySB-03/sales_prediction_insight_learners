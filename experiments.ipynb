{
 "cells": [
  {
   "cell_type": "code",
   "execution_count": 1,
   "metadata": {},
   "outputs": [],
   "source": [
    "from config import *\n",
    "import pandas as pd\n",
    "from sales_predictor import extract_from_dataset\n",
    "from preprocessing import data_preprocessing, missing_data_processing\n",
    "\n",
    "train=missing_data_processing(pd.read_csv('Train_Data.csv'))\n",
    "test=missing_data_processing(pd.read_csv('Test_Data.csv'))\n",
    "\n",
    "X_train,y_train=extract_from_dataset(train, 'Item_Outlet_Sales', ['Item_Identifier'])\n",
    "X_test,y_test=extract_from_dataset(test,'Item_Outlet_Sales', ['Item_Identifier'])"
   ]
  },
  {
   "cell_type": "code",
   "execution_count": 2,
   "metadata": {},
   "outputs": [],
   "source": [
    "X_train,y_train=data_preprocessing(X_train, y_train)\n",
    "X_test,y_test=data_preprocessing(X_test, y_test)"
   ]
  },
  {
   "cell_type": "code",
   "execution_count": 5,
   "metadata": {},
   "outputs": [],
   "source": [
    "from sklearn.linear_model import LinearRegression, PoissonRegressor\n",
    "from sklearn.ensemble import RandomForestRegressor, AdaBoostRegressor\n",
    "from sklearn.tree import DecisionTreeRegressor\n",
    "from sklearn.neighbors import KNeighborsRegressor\n",
    "from sklearn.neural_network import MLPRegressor\n",
    "\n",
    "models=[ RandomForestRegressor(max_depth=110, min_samples_leaf=41, min_samples_split=10, n_estimators=161),\n",
    "         AdaBoostRegressor(n_estimators=6), \n",
    "         DecisionTreeRegressor(ccp_alpha=8.08081, max_depth=267, min_samples_leaf=91), \n",
    "         KNeighborsRegressor(metric='manhattan', n_neighbors=12)]\n"
   ]
  },
  {
   "cell_type": "code",
   "execution_count": 6,
   "metadata": {},
   "outputs": [
    {
     "data": {
      "text/html": [
       "<div>\n",
       "<style scoped>\n",
       "    .dataframe tbody tr th:only-of-type {\n",
       "        vertical-align: middle;\n",
       "    }\n",
       "\n",
       "    .dataframe tbody tr th {\n",
       "        vertical-align: top;\n",
       "    }\n",
       "\n",
       "    .dataframe thead th {\n",
       "        text-align: right;\n",
       "    }\n",
       "</style>\n",
       "<table border=\"1\" class=\"dataframe\">\n",
       "  <thead>\n",
       "    <tr style=\"text-align: right;\">\n",
       "      <th></th>\n",
       "      <th>RMSE</th>\n",
       "      <th>Normalized RMSE</th>\n",
       "    </tr>\n",
       "  </thead>\n",
       "  <tbody>\n",
       "    <tr>\n",
       "      <th>RandomForestRegressor</th>\n",
       "      <td>1017.945531</td>\n",
       "      <td>0.114947</td>\n",
       "    </tr>\n",
       "    <tr>\n",
       "      <th>AdaBoostRegressor</th>\n",
       "      <td>1149.363235</td>\n",
       "      <td>0.129786</td>\n",
       "    </tr>\n",
       "    <tr>\n",
       "      <th>DecisionTreeRegressor</th>\n",
       "      <td>1030.366037</td>\n",
       "      <td>0.116349</td>\n",
       "    </tr>\n",
       "    <tr>\n",
       "      <th>KNeighborsRegressor</th>\n",
       "      <td>1077.017205</td>\n",
       "      <td>0.121617</td>\n",
       "    </tr>\n",
       "  </tbody>\n",
       "</table>\n",
       "</div>"
      ],
      "text/plain": [
       "                              RMSE  Normalized RMSE\n",
       "RandomForestRegressor  1017.945531         0.114947\n",
       "AdaBoostRegressor      1149.363235         0.129786\n",
       "DecisionTreeRegressor  1030.366037         0.116349\n",
       "KNeighborsRegressor    1077.017205         0.121617"
      ]
     },
     "execution_count": 6,
     "metadata": {},
     "output_type": "execute_result"
    }
   ],
   "source": [
    "import numpy as np\n",
    "\n",
    "result={}\n",
    "for m in models:\n",
    "    m.fit(X_train,y_train)\n",
    "    y_out=m.predict(X_test)\n",
    "\n",
    "    rmse=np.sqrt(np.mean((y_out-y_test)**2))\n",
    "    norm_rmse=rmse/(max(y_test)-min(y_test))\n",
    "\n",
    "    result.update({m.__class__.__name__:{'RMSE':rmse,'Normalized RMSE':norm_rmse}})\n",
    "\n",
    "res=pd.DataFrame(result).T\n",
    "res.to_csv('Best_Model.csv')\n",
    "res"
   ]
  },
  {
   "cell_type": "markdown",
   "metadata": {},
   "source": []
  }
 ],
 "metadata": {
  "kernelspec": {
   "display_name": "Python 3",
   "language": "python",
   "name": "python3"
  },
  "language_info": {
   "codemirror_mode": {
    "name": "ipython",
    "version": 3
   },
   "file_extension": ".py",
   "mimetype": "text/x-python",
   "name": "python",
   "nbconvert_exporter": "python",
   "pygments_lexer": "ipython3",
   "version": "3.8.3"
  }
 },
 "nbformat": 4,
 "nbformat_minor": 2
}
